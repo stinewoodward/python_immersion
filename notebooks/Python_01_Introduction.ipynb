{
 "cells": [
  {
   "cell_type": "markdown",
   "metadata": {
    "slideshow": {
     "slide_type": "slide"
    }
   },
   "source": [
    "# Python Immersion Course\n",
    "\n",
    "### An Introduction to Python\n",
    "\n",
    "### Joe Blankenship - Just some dude"
   ]
  },
  {
   "cell_type": "markdown",
   "metadata": {
    "slideshow": {
     "slide_type": "slide"
    }
   },
   "source": [
    "## 5 Initial Sections\n",
    "\n",
    "* Introduction to Python Programming Language - Part 1\n",
    "* Introduction to Python Programming Language - Part 2\n",
    "* Data Collection\n",
    "* Data Analysis\n",
    "* Data Visualization"
   ]
  },
  {
   "cell_type": "markdown",
   "metadata": {
    "slideshow": {
     "slide_type": "slide"
    }
   },
   "source": [
    "## Learning Objectives\n",
    "\n",
    "* Gain a working understanding of the Python programming language\n",
    "* Gain a working knowledge of how to collect and process data in Python\n",
    "* Gain a good understanding of how to perform data manipulation and analysis in Python\n",
    "* Gain a good understanding of how to visualize your analytic results using Python"
   ]
  },
  {
   "cell_type": "markdown",
   "metadata": {
    "slideshow": {
     "slide_type": "slide"
    }
   },
   "source": [
    "## Meetings and Discussions\n",
    "\n",
    "* Group dictates schedule\n",
    "* Notebooks are on GitHub ([here](https://github.com/bluegrass-devs/python_immersion))\n",
    "* Discussions on Slack\n",
    "  * [bluegrassdevs.org](https://www.bluegrassdevs.org/)\n",
    "* Email me (joe[at]cgrii.org)"
   ]
  },
  {
   "cell_type": "markdown",
   "metadata": {
    "slideshow": {
     "slide_type": "slide"
    }
   },
   "source": [
    "## Introduction - Part 1\n",
    "\n",
    "* Introduction\n",
    "  * What is Python?\n",
    "  * Why use it?\n",
    "* Setup\n",
    "  * Operating Systems\n",
    "  * Virtual Environments\n",
    "    * Python 3.X\n",
    "    * Anaconda\n",
    "  * IDEs\n",
    "    * Jupyter Lab/Notebooks\n",
    "    * Spyder\n",
    "    * PyCharm\n",
    "    * Text editors\n",
    "* Demo\n",
    "  * Hello World\n",
    "  * Virtual Environments\n",
    "* Install Python3 and pip3"
   ]
  },
  {
   "cell_type": "markdown",
   "metadata": {
    "slideshow": {
     "slide_type": "slide"
    }
   },
   "source": [
    "## What is Python?\n",
    "\n",
    "* \"Interpreted high-level programming language\" (Wikipedia)\n",
    "  * JIT\n",
    "  * Multiple interpreters\n",
    "* General-purpose programming\n",
    "* Created by Guido van Rossum (1991)\n",
    "* Named after Monty Python"
   ]
  },
  {
   "cell_type": "markdown",
   "metadata": {
    "slideshow": {
     "slide_type": "slide"
    }
   },
   "source": [
    "## Why Python?\n",
    "\n",
    "* Simple to Use!\n",
    "* Broad Spectrum of Application\n",
    "* Full Stack Solutions\n",
    "* Numerous 3rd Party Libraries\n",
    "* Active, Open Source Community"
   ]
  },
  {
   "cell_type": "markdown",
   "metadata": {
    "slideshow": {
     "slide_type": "slide"
    }
   },
   "source": [
    "## Setup - Operating Systems\n",
    "\n",
    "* Go here for your respective OS download\n",
    "  * https://www.python.org/\n",
    "* Windows\n",
    "  * load executable installer or ZIP\n",
    "  * Add to Path!\n",
    "* Mac OS\n",
    "  * Python for Mac OS\n",
    "  * For latest versions, have to download\n",
    "* Linux\n",
    "  * Just the best ;)\n",
    "  * Already have Python and Legacy Python installed"
   ]
  },
  {
   "cell_type": "markdown",
   "metadata": {
    "slideshow": {
     "slide_type": "slide"
    }
   },
   "source": [
    "## Setup - Package Management\n",
    "\n",
    "* PyPI\n",
    "  * [Python Package Index](https://pypi.python.org/pypi)\n",
    "  * pip3 package utility\n",
    "    * May need to install depending on OS\n",
    "  * Anyone can publish their packages here\n",
    "* Many other package managers\n",
    "  * Do your research\n",
    "    * Aptitude\n",
    "    * Homebrew\n",
    "    * Anaconda\n",
    "    * Enthought"
   ]
  },
  {
   "cell_type": "markdown",
   "metadata": {
    "slideshow": {
     "slide_type": "slide"
    }
   },
   "source": [
    "## Setup - Virtual Environments\n",
    "\n",
    "* Why?\n",
    "  * Maintain project environment\n",
    "  * Prevent clutter\n",
    "    * System packages – Python Standard library\n",
    "    * Site packages - 3rd party libraries\n",
    "  * Prevent package version issues\n",
    "  * Makes sharing your research/projects easier"
   ]
  },
  {
   "cell_type": "markdown",
   "metadata": {
    "slideshow": {
     "slide_type": "subslide"
    }
   },
   "source": [
    "## Setup - Virtual Environments\n",
    "\n",
    "* Command\n",
    "  * I currently recommend using [pipenv](https://pipenv.readthedocs.io/en/latest/)\n",
    "  * Inside your project directory use pipenv\n",
    "    * `pip3 install pipenv`\n",
    "    * `pipenv shell`\n",
    "    * `pipenv install`"
   ]
  },
  {
   "cell_type": "markdown",
   "metadata": {
    "slideshow": {
     "slide_type": "subslide"
    }
   },
   "source": [
    "## Setup - Virtual Environments\n",
    "\n",
    "* Python has a [default virtual environment tool](https://docs.python.org/3/library/venv.html)\n",
    "* To create your project directory with virtual environment\n",
    "  * `python3 -m venv /path/to/new/virtual/environment`\n",
    "  * `cd /path/to/new/virtual/environment`\n",
    "  * `source bin/activate`\n",
    "* To create a requirements.txt\n",
    "  * activate the virtual environment\n",
    "  * `pip3 freeze > requirements.txt`"
   ]
  },
  {
   "cell_type": "markdown",
   "metadata": {
    "slideshow": {
     "slide_type": "subslide"
    }
   },
   "source": [
    "## Setup - Virtual Environments\n",
    "\n",
    "* Anaconda is a popular data science environment\n",
    "  * Package management/virtual environments are unique to their system\n",
    "* Enthought is another data science-focused environment\n",
    "* You can go one of these routes if you choose\n",
    "  * Keep in mind these are companies with partially proprietary setups"
   ]
  },
  {
   "cell_type": "markdown",
   "metadata": {
    "slideshow": {
     "slide_type": "slide"
    }
   },
   "source": [
    "## Setup - IDEs\n",
    "\n",
    "* Python comes with a REPL and Idle\n",
    "* You can use Integrated Development Environments (IDEs)\n",
    "  * Jupyter Lab\n",
    "    * Jupyter Notebooks\n",
    "    * iPython\n",
    "  * Spyder\n",
    "  * PyCharm\n",
    "  * Sublime\n",
    "  * Atom\n",
    "  * Visual Studio Code\n",
    "  * Notepad++ (Windows)\n",
    "  * Any text editor really..."
   ]
  },
  {
   "cell_type": "markdown",
   "metadata": {
    "slideshow": {
     "slide_type": "slide"
    }
   },
   "source": [
    "## Demos!"
   ]
  },
  {
   "cell_type": "code",
   "execution_count": null,
   "metadata": {
    "slideshow": {
     "slide_type": "subslide"
    }
   },
   "outputs": [],
   "source": [
    "# Python Easter Egg!\n",
    "import antigravity"
   ]
  },
  {
   "cell_type": "code",
   "execution_count": null,
   "metadata": {
    "slideshow": {
     "slide_type": "subslide"
    }
   },
   "outputs": [],
   "source": [
    "# Another Python Easter Egg!\n",
    "import this"
   ]
  },
  {
   "cell_type": "code",
   "execution_count": null,
   "metadata": {
    "slideshow": {
     "slide_type": "subslide"
    }
   },
   "outputs": [],
   "source": [
    "# A simple app to open multiple search tabs on a browser for same query\n",
    "\n",
    "# from core Python3, import open_new_tab module from webbrowser library\n",
    "from webbrowser import open_new_tab\n",
    "\n",
    "# Define list of search engine URLs\n",
    "websites = [\n",
    "    \"https://www.google.com/search?q=\",\n",
    "    \"https://duckduckgo.com/?q=\",\n",
    "    \"https://search.yahoo.com/search?p=\",\n",
    "    \"https://www.bing.com/search?q=\",\n",
    "    \"https://www.ask.com/web?q=\",\n",
    "    \"https://www.startpage.com/do/dsearch?query=\"\n",
    "]\n",
    "\n",
    "# Define the search query\n",
    "query = 'python is the best'\n",
    "\n",
    "# For each URL in the list\n",
    "# open a new tab and populate the URL with the search engine and query \n",
    "for i in websites:\n",
    "    open_new_tab(i + query)\n"
   ]
  },
  {
   "cell_type": "code",
   "execution_count": null,
   "metadata": {
    "slideshow": {
     "slide_type": "subslide"
    }
   },
   "outputs": [],
   "source": [
    "# An app with a function which opens multiple search tabs on a browser for same query\n",
    "\n",
    "# from core Python3, import open_new_tab module from webbrowser library\n",
    "from webbrowser import open_new_tab\n",
    "\n",
    "# Define a reusable function named 'search' that takes arguments for a search phrase and engines\n",
    "def search(search_phrase, search_engines):\n",
    "    # For each URL in the list\n",
    "    for i in search_engines:\n",
    "        # open a new tab and populate the URL with the search engine and query \n",
    "        open_new_tab(i + search_phrase)\n"
   ]
  },
  {
   "cell_type": "code",
   "execution_count": null,
   "metadata": {
    "slideshow": {
     "slide_type": "subslide"
    }
   },
   "outputs": [],
   "source": [
    "# use our search function for our query\n",
    "search(query, websites)\n"
   ]
  },
  {
   "cell_type": "markdown",
   "metadata": {
    "slideshow": {
     "slide_type": "slide"
    }
   },
   "source": [
    "## Resources\n",
    "\n",
    "* Public/Univeristy Libraries\n",
    "  * Books, E-books, and online education resources\n",
    "* [Pycoder's Weekly](http://pycoders.com/)\n",
    "* [KDNuggets](https://www.kdnuggets.com/news/index.html)\n",
    "* [Data Science Weekly](https://www.datascienceweekly.org/newsletters/data-science-weekly-newsletter-issue-217)\n",
    "* [DataCamp](https://www.datacamp.com/)\n",
    "* [Codecademy](https://www.codecademy.com/)\n",
    "* [Python Packages](https://packaging.python.org/tutorials/installing-packages/)\n",
    "* [Real Python](https://realpython.com/)\n",
    "* [Full Stack Python](https://www.fullstackpython.com/)\n",
    "* [PyCon talks](http://pyvideo.org/)\n",
    "* [Dan Bader’s stuff](https://dbader.org/)"
   ]
  },
  {
   "cell_type": "code",
   "execution_count": null,
   "metadata": {},
   "outputs": [],
   "source": []
  }
 ],
 "metadata": {
  "kernelspec": {
   "display_name": "Python 3",
   "language": "python",
   "name": "python3"
  },
  "language_info": {
   "codemirror_mode": {
    "name": "ipython",
    "version": 3
   },
   "file_extension": ".py",
   "mimetype": "text/x-python",
   "name": "python",
   "nbconvert_exporter": "python",
   "pygments_lexer": "ipython3",
   "version": "3.6.5"
  }
 },
 "nbformat": 4,
 "nbformat_minor": 2
}
